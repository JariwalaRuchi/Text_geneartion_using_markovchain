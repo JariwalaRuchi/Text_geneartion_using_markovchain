{
  "nbformat": 4,
  "nbformat_minor": 0,
  "metadata": {
    "colab": {
      "provenance": []
    },
    "kernelspec": {
      "name": "python3",
      "display_name": "Python 3"
    },
    "language_info": {
      "name": "python"
    }
  },
  "cells": [
    {
      "cell_type": "markdown",
      "source": [
        "\n",
        "#**Text Generation with a Markov Chain**\n",
        " A Markov chain is a kind of [mathematical model](https://en.wikipedia.org/wiki/Markov_chain) .\n",
        "\n"
      ],
      "metadata": {
        "id": "S4D_8E4NMQne"
      }
    },
    {
      "cell_type": "markdown",
      "source": [
        "## Importing and Installing\n",
        "Markovify is not automatically part of this environment, so I need to install it. Eventually I'll want to save this novel as a PDF, so I'm going to go ahead and install WeasyPrint to make that happen"
      ],
      "metadata": {
        "id": "6B7qp73PMoeV"
      }
    },
    {
      "cell_type": "code",
      "execution_count": null,
      "metadata": {
        "colab": {
          "base_uri": "https://localhost:8080/"
        },
        "id": "q-eRa18NMIcD",
        "outputId": "f2474a8f-ff45-4e4a-a686-f8f92f2697f5"
      },
      "outputs": [
        {
          "output_type": "stream",
          "name": "stdout",
          "text": [
            "Requirement already satisfied: markovify in /usr/local/lib/python3.10/dist-packages (0.9.4)\n",
            "Requirement already satisfied: unidecode in /usr/local/lib/python3.10/dist-packages (from markovify) (1.3.8)\n",
            "Collecting PyPDF2\n",
            "  Downloading pypdf2-3.0.1-py3-none-any.whl.metadata (6.8 kB)\n",
            "Downloading pypdf2-3.0.1-py3-none-any.whl (232 kB)\n",
            "\u001b[2K   \u001b[90m━━━━━━━━━━━━━━━━━━━━━━━━━━━━━━━━━━━━━━━━\u001b[0m \u001b[32m232.6/232.6 kB\u001b[0m \u001b[31m6.2 MB/s\u001b[0m eta \u001b[36m0:00:00\u001b[0m\n",
            "\u001b[?25hInstalling collected packages: PyPDF2\n",
            "Successfully installed PyPDF2-3.0.1\n"
          ]
        }
      ],
      "source": [
        "!pip install markovify\n",
        "!pip install PyPDF2\n",
        "import PyPDF2"
      ]
    },
    {
      "cell_type": "markdown",
      "source": [
        "Now I can proceed with importing markovify, and random is useful to have too."
      ],
      "metadata": {
        "id": "8z1-hb-dMvLt"
      }
    },
    {
      "cell_type": "code",
      "source": [
        "import markovify\n",
        "import random"
      ],
      "metadata": {
        "id": "biC6LPJMMvvF"
      },
      "execution_count": null,
      "outputs": []
    },
    {
      "cell_type": "markdown",
      "source": [
        "## Building the Model\n",
        "\n",
        "The Markovify module needs a string to process and build a database of sequential probability sequences, so start with some book like _Pride and Prejudice_. The following code assumes that this novel's text has already been uploaded into the notebook's file storage area with the file name `pride.txt`."
      ],
      "metadata": {
        "id": "tFd-_YFnM1Mb"
      }
    },
    {
      "cell_type": "code",
      "source": [
        "#with open(\"/content/Pride_and_Birds.pdf\") as f:\n",
        "#text = f.read()\n",
        "!pip install PyPDF2\n",
        "import PyPDF2\n",
        "\n",
        "with open(\"/content/Pride_and_Birds.pdf\", 'rb') as f: # Open the file in binary mode\n",
        "  pdf_reader = PyPDF2.PdfReader(f)  # Use PyPDF2 to read the PDF file\n",
        "  text = \"\"\n",
        "  for page in pdf_reader.pages: # Extract text from each page\n",
        "      text += page.extract_text()"
      ],
      "metadata": {
        "colab": {
          "base_uri": "https://localhost:8080/"
        },
        "id": "_GAvxCnOM0oE",
        "outputId": "aa985301-dd20-4aa9-eb56-cb75c4bf56a9"
      },
      "execution_count": null,
      "outputs": [
        {
          "output_type": "stream",
          "name": "stdout",
          "text": [
            "Requirement already satisfied: PyPDF2 in /usr/local/lib/python3.10/dist-packages (3.0.1)\n"
          ]
        }
      ]
    },
    {
      "cell_type": "markdown",
      "source": [
        "The next line processes the contents of the `text` variable to build the model, so hopefully that's the full text of the book."
      ],
      "metadata": {
        "id": "MlieBnv4M7Ps"
      }
    },
    {
      "cell_type": "code",
      "source": [
        "text_model = markovify.Text(text)"
      ],
      "metadata": {
        "id": "vUWsyWesM6i0"
      },
      "execution_count": null,
      "outputs": []
    },
    {
      "cell_type": "markdown",
      "source": [
        "\n",
        "We can test if that worked by checking the output of Markovify's make_sentence() function."
      ],
      "metadata": {
        "id": "3Zk9rfO1NCM9"
      }
    },
    {
      "cell_type": "code",
      "source": [
        "print( text_model.make_sentence() )"
      ],
      "metadata": {
        "colab": {
          "base_uri": "https://localhost:8080/"
        },
        "id": "XLwA9LggNFq1",
        "outputId": "e5c18066-3b29-4156-c6ab-1e63907979b4"
      },
      "execution_count": null,
      "outputs": [
        {
          "output_type": "stream",
          "name": "stdout",
          "text": [
            "A day or two greater coverts deep red; back of the impropriety of expression.\n"
          ]
        }
      ]
    },
    {
      "cell_type": "code",
      "source": [
        "# generate a short sentence\n",
        "print(text_model.make_short_sentence(140))"
      ],
      "metadata": {
        "colab": {
          "base_uri": "https://localhost:8080/"
        },
        "id": "SzzvjnhsNKPd",
        "outputId": "ec8934fc-e7b9-4996-dd17-bb66315ec507"
      },
      "execution_count": null,
      "outputs": [
        {
          "output_type": "stream",
          "name": "stdout",
          "text": [
            "After the first time.\n"
          ]
        }
      ]
    },
    {
      "cell_type": "code",
      "source": [
        "# build the model with a larger state size, then generate a sentence\n",
        "larger_state_text_model = markovify.Text(text, state_size=2)\n",
        "print( larger_state_text_model.make_sentence() )"
      ],
      "metadata": {
        "colab": {
          "base_uri": "https://localhost:8080/"
        },
        "id": "FkFhvryxNNaN",
        "outputId": "5600b119-6b5f-4bba-a3c9-62f928825067"
      },
      "execution_count": null,
      "outputs": [
        {
          "output_type": "stream",
          "name": "stdout",
          "text": [
            "The paucity of the most serious manner, representing to her mother’s presence be what he was anxious for his daughter.\n"
          ]
        }
      ]
    },
    {
      "cell_type": "code",
      "source": [
        "for i in range(12):\n",
        "  print( larger_state_text_model.make_sentence()"
      ],
      "metadata": {
        "id": "7pL0a21JNQL-"
      },
      "execution_count": null,
      "outputs": []
    },
    {
      "cell_type": "code",
      "source": [
        "!pip install PyPDF2\n",
        "import PyPDF2\n",
        "\n",
        "with open(\"/australianbirdbo00leac_0.pdf\", 'rb') as f: # Open the file in binary mode\n",
        "  pdf_reader = PyPDF2.PdfReader(f)  # Use PyPDF2 to read the PDF file\n",
        "  text = \"\"\n",
        "  for page in pdf_reader.pages: # Extract text from each page\n",
        "      text += page.extract_text()\n"
      ],
      "metadata": {
        "colab": {
          "base_uri": "https://localhost:8080/"
        },
        "id": "YtSQqz_pNTXu",
        "outputId": "b7ba5803-a665-4a6a-bec7-68b0afebf0c3"
      },
      "execution_count": null,
      "outputs": [
        {
          "output_type": "stream",
          "name": "stdout",
          "text": [
            "Requirement already satisfied: PyPDF2 in /usr/local/lib/python3.10/dist-packages (3.0.1)\n"
          ]
        }
      ]
    },
    {
      "cell_type": "code",
      "source": [
        "text_model = markovify.Text(text)"
      ],
      "metadata": {
        "id": "CSl9DYtFZbkL"
      },
      "execution_count": null,
      "outputs": []
    },
    {
      "cell_type": "code",
      "source": [
        "print( text_model.make_sentence() )"
      ],
      "metadata": {
        "colab": {
          "base_uri": "https://localhost:8080/"
        },
        "id": "Td5WRjjCNVv2",
        "outputId": "c04ce89a-ae85-45d4-f391-1ebca6b24e8a"
      },
      "execution_count": null,
      "outputs": [
        {
          "output_type": "stream",
          "name": "stdout",
          "text": [
            "Birds of Australasia: Gregory M. Mathews, have been recorded from Victoria, and are fairly common when I taught in a hollow tree, but do not need the ridge 14 AN AUSTRALIAN BIRD BOOK.\n"
          ]
        }
      ]
    },
    {
      "cell_type": "code",
      "source": [
        "novel = ''\n",
        "while (len( novel.split(\" \")) < 500):\n",
        "  for i in range(random.randrange(3,9)):\n",
        "    novel += text_model.make_sentence() + \" \"\n",
        "  novel += \"\\n\\n\"\n",
        "    # print(text_model.make_sentence()\n",
        "\n",
        "print(novel)\n"
      ],
      "metadata": {
        "colab": {
          "base_uri": "https://localhost:8080/"
        },
        "id": "9gsR_vzDNY0V",
        "outputId": "3d351a33-2604-4daf-e5a4-190fcf05f003"
      },
      "execution_count": null,
      "outputs": [
        {
          "output_type": "stream",
          "name": "stdout",
          "text": [
            "Stat. v.r. dry scrubs belongs to another of the Australian Flower- Pecker, for it is orange, and in most cases an appropriate, name for each bird. Stat. ec. reed-beds 6.3 Upper reddish-brown; under lighter; chin, . abdomen white; bill long, slightly upturned; f., larger. Stat. c. mallee scrub, water courses 13 Crown, chest, abdomen, rump rich-green; yellow band on the end of the bird settles on a bough, its external form somewhat resembles that of a whip. \n",
            "\n",
            "Part.-Mig. v.c. plains, timber 20. Some of its range, but migratory in the Northern Hemisphere, yet the Southern Hemisphere, with its never-cloying fragrance; while there is, per- haps, no forest more odorous than a Magpie-Lark. . 48 Dimorphism 41 Eudyptula . 25 Gaviidae . ; 25 Gelochelidon . 35 Tauhou . 155 In the first bird had given an eye for, and an =interest in, the world over. Two of the first bird had given an eye for, and an =interest in, the world over, except to New Zealand, as well as in Australia. \n",
            "\n",
            "The common Black-faced Cuckoo-Shrike is partly migratory, and sometimes appears in thousands, and, being largely vegetable feeders, they have always been a certain amount of harm, but the main reason is probably much exaggerated, for Littler, in his claim that this bird as he rises over the edge of the agri- culturist and the enemy has seen the devastated nests, with the high-pitched call of the species recognized by collectors that conspicuous animals have generally some effective means of protection, and he bears a bad name generally. In all its ways, the Lyre Bird is now over 6 feet high. Still, the brown patch on wing; bill black; f., larger. W.A.; sub-species of the 1910 Summer School was being held. Bali has Woodpeckers, Barbets, Bulbuls, and Black and White Fantail, 7.5 in.; a Starling, but smaller than the Ibis. Here it lays a relatively small egg, so one would expect the Petrel to be seen, and the Raven, however, are represented by closely-related birds, with a company of these birds in May, 1909. As the two countries visited. Nature-study in our suburban gardens. \n",
            "\n",
            "This bird’s scientific position is not brightly colored in the water, often close to it. The bold, pugnacious Brush Wattle-Bird is known to live on them. 33 Head, neck, back sooty-black; white spot on the Alps almost deafening, while his com- 166 AN AUSTRALIAN BIRD BOOK. Thus South America contains the largest Parrots—the Macaws—all the South Australian Government has wisely placed them on the characters of the Dottrels live on them. Australia has representatives of the Thrush and Blackbird. \n",
            "\n",
            "As Egypt depended on the wing, has excited much interest and controversy. Black Cockatoo, Calyptor- 7 hynchus funereus, S.Q., N.S.W., V., S.A. Stat. v.r. mallee, scrub 8 Upper black; under gray, finely- barred black; rump, breast, abdomen white; f., smaller; upper brown tinged yellow; tail tipped white; throat buff; under buff barred brown; under buffy-white streaked and tinged red-brown; upper base tail white; upper dark-brown; line over eye, throat, under base tail white. Thus the young Cuckoo, when the foundations of their songs is largely in the National Museum. Published by arrangement with the Emu order, make a total of 21 orders of birds followup themelting ice, and so be preserved for future generations. Xenicidae, New Zealand and Africa. 171 One of the Crow family. Grass-Wrens are not webbed, several of the air; their long, pointed wings, shown much longer than the place they started from. It breeds in Australia, shows the page on which a bird as an ornament to the coastal lagoons of Western Australia. \n",
            "\n",
            "\n"
          ]
        }
      ]
    }
  ]
}